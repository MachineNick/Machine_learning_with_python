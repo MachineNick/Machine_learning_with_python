{
 "cells": [
  {
   "cell_type": "code",
   "execution_count": 10,
   "id": "6e463d2e-a575-4428-a671-c85a699c511d",
   "metadata": {},
   "outputs": [],
   "source": [
    "import numpy as np"
   ]
  },
  {
   "cell_type": "code",
   "execution_count": 11,
   "id": "0ee030ab-4dc5-4a41-a175-8227c9f32e4d",
   "metadata": {},
   "outputs": [],
   "source": [
    "import random"
   ]
  },
  {
   "cell_type": "code",
   "execution_count": 50,
   "id": "3c375492-18bf-4c9d-b2e3-9227ae94245a",
   "metadata": {},
   "outputs": [],
   "source": [
    "import pandas as pd"
   ]
  },
  {
   "cell_type": "code",
   "execution_count": 53,
   "id": "c0eb61ac-0122-4655-b60e-06b269a8807a",
   "metadata": {},
   "outputs": [],
   "source": [
    "import seaborn as sns"
   ]
  },
  {
   "cell_type": "raw",
   "id": "8ebe068a-bf0f-4cc4-a9a0-f99596da00bd",
   "metadata": {},
   "source": [
    "import matplotlib.pyplot as plt"
   ]
  },
  {
   "cell_type": "raw",
   "id": "81837eeb-b958-4af7-9326-e1de6f85bc69",
   "metadata": {},
   "source": [
    "arr=np.arange(0,10)"
   ]
  },
  {
   "cell_type": "raw",
   "id": "cc56c7f1-6ac0-4a69-899e-d6b73d2668c7",
   "metadata": {},
   "source": [
    "arr"
   ]
  },
  {
   "cell_type": "code",
   "execution_count": 9,
   "id": "e0df5d6f-3281-4c4e-9d4c-6713a3b38f79",
   "metadata": {},
   "outputs": [
    {
     "name": "stdout",
     "output_type": "stream",
     "text": [
      "4.5\n"
     ]
    }
   ],
   "source": [
    "print(np.mean(arr))"
   ]
  },
  {
   "cell_type": "markdown",
   "id": "45357d81-0375-4538-8bb2-de58eabaa640",
   "metadata": {},
   "source": [
    "Generate a 5x5 random matrix using NumPy and find the maximum value in each row.\n"
   ]
  },
  {
   "cell_type": "code",
   "execution_count": 13,
   "id": "f4b7b1bf-b59b-4053-9297-fed2ecbfaa40",
   "metadata": {},
   "outputs": [],
   "source": [
    "random =np.random.rand(5,5)"
   ]
  },
  {
   "cell_type": "code",
   "execution_count": 14,
   "id": "26a10783-83e3-4692-a0e1-44697dca5dbc",
   "metadata": {},
   "outputs": [
    {
     "data": {
      "text/plain": [
       "array([[0.79975121, 0.69534925, 0.07906876, 0.91228973, 0.49230065],\n",
       "       [0.63782789, 0.1620784 , 0.77734968, 0.0199845 , 0.35859505],\n",
       "       [0.69633556, 0.81860598, 0.91681546, 0.89788211, 0.24683192],\n",
       "       [0.3980929 , 0.35544176, 0.96422332, 0.81578904, 0.05614363],\n",
       "       [0.86864992, 0.65015982, 0.66445335, 0.25852258, 0.08529268]])"
      ]
     },
     "execution_count": 14,
     "metadata": {},
     "output_type": "execute_result"
    }
   ],
   "source": [
    "random\n"
   ]
  },
  {
   "cell_type": "code",
   "execution_count": 15,
   "id": "e5f91bf4-853e-4548-ac54-40d1f8298f18",
   "metadata": {},
   "outputs": [],
   "source": [
    "maxrand=np.max(random,axis=1)"
   ]
  },
  {
   "cell_type": "code",
   "execution_count": 16,
   "id": "77b06f21-85cb-4afe-abb2-0efe4b45da2e",
   "metadata": {},
   "outputs": [
    {
     "data": {
      "text/plain": [
       "array([0.91228973, 0.77734968, 0.91681546, 0.96422332, 0.86864992])"
      ]
     },
     "execution_count": 16,
     "metadata": {},
     "output_type": "execute_result"
    }
   ],
   "source": [
    "maxrand"
   ]
  },
  {
   "cell_type": "markdown",
   "id": "a0d82bba-5eeb-46ac-b325-50d0700b5269",
   "metadata": {},
   "source": [
    "Create a NumPy array of random numbers with shape (3, 4) and column names ['A', 'B', 'C', 'D']. Convert it into a Pandas DataFrame.\n"
   ]
  },
  {
   "cell_type": "code",
   "execution_count": 17,
   "id": "f6e97f55-d88e-493e-a50d-e39679b938f5",
   "metadata": {},
   "outputs": [],
   "source": [
    "random1=np.random.rand(3,4)"
   ]
  },
  {
   "cell_type": "code",
   "execution_count": 19,
   "id": "7b54e40c-0774-44c9-af91-9ef3e31604da",
   "metadata": {},
   "outputs": [],
   "source": [
    "columns=[\"A\",\"B\",\"C\",\"D\"]"
   ]
  },
  {
   "cell_type": "code",
   "execution_count": 22,
   "id": "9637f67f-5e2c-4d4c-8e9c-5f43840dd485",
   "metadata": {},
   "outputs": [],
   "source": [
    "topd=pd.DataFrame(random1,columns=columns)"
   ]
  },
  {
   "cell_type": "code",
   "execution_count": 26,
   "id": "ad353ed2-aee6-47ee-ac97-5f4bb6f8690a",
   "metadata": {},
   "outputs": [
    {
     "data": {
      "text/plain": [
       "<bound method DataFrame.info of           A         B         C         D\n",
       "0  0.443117  0.144875  0.361722  0.854880\n",
       "1  0.512627  0.857473  0.519419  0.329662\n",
       "2  0.430612  0.611838  0.576455  0.234492>"
      ]
     },
     "execution_count": 26,
     "metadata": {},
     "output_type": "execute_result"
    }
   ],
   "source": [
    "topd.info"
   ]
  },
  {
   "cell_type": "markdown",
   "id": "2bdb9177-e856-4c97-9a98-45343cd47f08",
   "metadata": {},
   "source": [
    "Generate two arrays, x and y, of 100 random floating-point numbers between 0 and 1 using NumPy. And then create a scatterplot of x versus y using seaborn."
   ]
  },
  {
   "cell_type": "code",
   "execution_count": 49,
   "id": "3a972443-4f90-44f1-bb79-2af2022746c2",
   "metadata": {},
   "outputs": [],
   "source": [
    "y=np.random.rand(100)"
   ]
  },
  {
   "cell_type": "code",
   "execution_count": 48,
   "id": "c76533eb-e5fc-4ef1-8dea-71f31ed4a638",
   "metadata": {},
   "outputs": [],
   "source": [
    "x=np.random.rand(100)"
   ]
  },
  {
   "cell_type": "markdown",
   "id": "1c2e5fb3-3623-4fa6-b383-76cc85caf811",
   "metadata": {},
   "source": [
    "# x"
   ]
  },
  {
   "cell_type": "code",
   "execution_count": 55,
   "id": "6491b2ec-e8b0-451f-91fc-d5452f01d737",
   "metadata": {},
   "outputs": [
    {
     "data": {
      "text/plain": [
       "<Axes: >"
      ]
     },
     "execution_count": 55,
     "metadata": {},
     "output_type": "execute_result"
    },
    {
     "data": {
      "image/png": "[encoded data removed]",
      "text/plain": [
       "<Figure size 640x480 with 1 Axes>"
      ]
     },
     "metadata": {},
     "output_type": "display_data"
    }
   ],
   "source": [
    "sns.scatterplot(x=x,y=y)"
   ]
  },
  {
   "cell_type": "code",
   "execution_count": null,
   "id": "ae75be0c-0f63-4495-a9f4-1adac9f5447a",
   "metadata": {},
   "outputs": [],
   "source": []
  }
 ],
 "metadata": {
  "kernelspec": {
   "display_name": "Python 3 (ipykernel)",
   "language": "python",
   "name": "python3"
  },
  "language_info": {
   "codemirror_mode": {
    "name": "ipython",
    "version": 3
   },
   "file_extension": ".py",
   "mimetype": "text/x-python",
   "name": "python",
   "nbconvert_exporter": "python",
   "pygments_lexer": "ipython3",
   "version": "3.12.3"
  }
 },
 "nbformat": 4,
 "nbformat_minor": 5
}
